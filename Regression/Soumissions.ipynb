{
 "cells": [
  {
   "cell_type": "markdown",
   "metadata": {},
   "source": [
    "### 0- Étape préliminaire: Importation des librairies"
   ]
  },
  {
   "cell_type": "code",
   "execution_count": 2,
   "metadata": {},
   "outputs": [
    {
     "name": "stdout",
     "output_type": "stream",
     "text": [
      "Intel MKL WARNING: Support of Intel(R) Streaming SIMD Extensions 4.2 (Intel(R) SSE4.2) enabled only processors has been deprecated. Intel oneAPI Math Kernel Library 2025.0 will require Intel(R) Advanced Vector Extensions (Intel(R) AVX) instructions.\n",
      "Intel MKL WARNING: Support of Intel(R) Streaming SIMD Extensions 4.2 (Intel(R) SSE4.2) enabled only processors has been deprecated. Intel oneAPI Math Kernel Library 2025.0 will require Intel(R) Advanced Vector Extensions (Intel(R) AVX) instructions.\n"
     ]
    }
   ],
   "source": [
    "#general librairies\n",
    "import numpy as np \n",
    "import matplotlib.pyplot as plt \n",
    "import seaborn as sns\n",
    "import pandas as pd\n",
    "\n",
    "#sklearn librairies\n",
    "from sklearn.metrics import r2_score\n",
    "from sklearn.model_selection import train_test_split\n",
    "from sklearn.preprocessing import StandardScaler\n",
    "from sklearn.model_selection import GridSearchCV\n",
    "from sklearn.feature_selection import RFE\n",
    "from sklearn.linear_model import *\n",
    "from sklearn.ensemble import * \n",
    "from sklearn.svm import *\n",
    "import statsmodels.api as sm\n",
    "import xgboost as xgb\n",
    "\n",
    "#appel a nos fonctions\n",
    "from fcts_R.general import * \n",
    "from fcts_R.dataset_division import *"
   ]
  },
  {
   "cell_type": "markdown",
   "metadata": {},
   "source": [
    "0.b - Importation du jeu de données"
   ]
  },
  {
   "cell_type": "code",
   "execution_count": 13,
   "metadata": {},
   "outputs": [],
   "source": [
    "data0 = pd.read_csv(\"datasets_c/data0.csv\")\n",
    "data1 = pd.read_csv(\"datasets_c/data1.csv\")\n",
    "\n",
    "\n",
    "#On sépare les co-variables de la variable à prédire\n",
    "X0,y0 = treatment(data0)\n",
    "X1,y1 = treatment(data1)\n",
    "\n",
    "#Data0: \n",
    "X_tr0, X_te0, y_tr0, y_te0= train_test_split(X0,y0, test_size=0.33,random_state=2023)\n",
    "\n",
    "#Data1:\n",
    "X_tr1, X_te1, y_tr1, y_te1= train_test_split(X1,y1, test_size=0.33,random_state=2023)"
   ]
  },
  {
   "cell_type": "code",
   "execution_count": 30,
   "metadata": {},
   "outputs": [],
   "source": [
    "y_te = pred = np.row_stack((y_te0.to_numpy(),y_te1.to_numpy()))"
   ]
  },
  {
   "cell_type": "markdown",
   "metadata": {},
   "source": [
    "Normalisation des données"
   ]
  },
  {
   "cell_type": "code",
   "execution_count": 6,
   "metadata": {},
   "outputs": [],
   "source": [
    "#Pour data0: \n",
    "stdsc = StandardScaler()\n",
    "X_tr_0 = stdsc.fit_transform(X_tr0)\n",
    "X_te_0 = stdsc.transform(X_te0)\n",
    "\n",
    "#Pour data1: \n",
    "stdsc = StandardScaler()\n",
    "X_tr_1 = stdsc.fit_transform(X_tr1)\n",
    "X_te_1 = stdsc.transform(X_te1)"
   ]
  },
  {
   "cell_type": "markdown",
   "metadata": {},
   "source": [
    "Selection des meilleurs modèles par catégorie: "
   ]
  },
  {
   "cell_type": "markdown",
   "metadata": {},
   "source": [
    "Pour data0: "
   ]
  },
  {
   "cell_type": "code",
   "execution_count": 57,
   "metadata": {},
   "outputs": [
    {
     "name": "stderr",
     "output_type": "stream",
     "text": [
      "/Users/laurafuentesvicente/opt/anaconda3/envs/datachallenge/lib/python3.11/site-packages/sklearn/utils/validation.py:1143: DataConversionWarning: A column-vector y was passed when a 1d array was expected. Please change the shape of y to (n_samples, ), for example using ravel().\n",
      "  y = column_or_1d(y, warn=True)\n",
      "/var/folders/30/cz4hwnjn49sbv5x54df4kt4m0000gn/T/ipykernel_3874/2270472714.py:5: DataConversionWarning: A column-vector y was passed when a 1d array was expected. Please change the shape of y to (n_samples,), for example using ravel().\n",
      "  pred_etrees0 = ExtraTreesRegressor(random_state=50, max_samples=None, n_estimators=1000).fit(X_tr_0, y_tr0).predict(X_te_0)\n",
      "/Users/laurafuentesvicente/opt/anaconda3/envs/datachallenge/lib/python3.11/site-packages/sklearn/ensemble/_bagging.py:508: DataConversionWarning: A column-vector y was passed when a 1d array was expected. Please change the shape of y to (n_samples, ), for example using ravel().\n",
      "  return column_or_1d(y, warn=True)\n"
     ]
    }
   ],
   "source": [
    "pred_SVM0 =  NuSVR(C=1.5, gamma='scale', kernel='rbf', nu=0.6).fit(X_tr_0, y_tr0).predict(X_te_0)\n",
    "\n",
    "pred_xgboost0 = xgb.XGBRegressor(seed = 2023, objective=\"reg:squarederror\", n_estimators=100).fit(X_tr_0, y_tr0).predict(X_te_0)\n",
    "\n",
    "pred_etrees0 = ExtraTreesRegressor(random_state=50, max_samples=None, n_estimators=1000).fit(X_tr_0, y_tr0).predict(X_te_0)\n",
    "\n",
    "pred_bagg0 = BaggingRegressor(n_estimators= 2250, random_state=10).fit(X_tr_0, y_tr0).predict(X_te_0)"
   ]
  },
  {
   "cell_type": "markdown",
   "metadata": {},
   "source": [
    "Pour data1: "
   ]
  },
  {
   "cell_type": "code",
   "execution_count": 8,
   "metadata": {},
   "outputs": [
    {
     "name": "stdout",
     "output_type": "stream",
     "text": [
      "Intel MKL WARNING: Support of Intel(R) Streaming SIMD Extensions 4.2 (Intel(R) SSE4.2) enabled only processors has been deprecated. Intel oneAPI Math Kernel Library 2025.0 will require Intel(R) Advanced Vector Extensions (Intel(R) AVX) instructions.\n",
      "                            OLS Regression Results                            \n",
      "==============================================================================\n",
      "Dep. Variable:                 target   R-squared:                       0.362\n",
      "Model:                            OLS   Adj. R-squared:                  0.356\n",
      "Method:                 Least Squares   F-statistic:                     60.95\n",
      "Date:                Mon, 30 Oct 2023   Prob (F-statistic):           2.65e-69\n",
      "Time:                        16:43:45   Log-Likelihood:                -910.07\n",
      "No. Observations:                 761   AIC:                             1836.\n",
      "Df Residuals:                     753   BIC:                             1873.\n",
      "Df Model:                           7                                         \n",
      "Covariance Type:            nonrobust                                         \n",
      "====================================================================================\n",
      "                       coef    std err          t      P>|t|      [0.025      0.975]\n",
      "------------------------------------------------------------------------------------\n",
      "Intercept           -0.0263      0.029     -0.902      0.368      -0.084       0.031\n",
      "alcohol              0.3926      0.042      9.405      0.000       0.311       0.475\n",
      "sulphates            0.1440      0.031      4.578      0.000       0.082       0.206\n",
      "density             -0.0858      0.063     -1.361      0.174      -0.210       0.038\n",
      "volatile_acidity    -0.3042      0.037     -8.327      0.000      -0.376      -0.233\n",
      "fixed_acidity        0.1405      0.059      2.400      0.017       0.026       0.255\n",
      "citric_acid         -0.0946      0.048     -1.986      0.047      -0.188      -0.001\n",
      "residual_sugar       0.0375      0.035      1.062      0.288      -0.032       0.107\n",
      "==============================================================================\n",
      "Omnibus:                       16.914   Durbin-Watson:                   1.945\n",
      "Prob(Omnibus):                  0.000   Jarque-Bera (JB):               25.719\n",
      "Skew:                          -0.188   Prob(JB):                     2.60e-06\n",
      "Kurtosis:                       3.818   Cond. No.                         4.82\n",
      "==============================================================================\n",
      "\n",
      "Notes:\n",
      "[1] Standard Errors assume that the covariance matrix of the errors is correctly specified.\n"
     ]
    }
   ],
   "source": [
    "data1 = pd.read_csv('datasets_c/data1.csv')\n",
    "\n",
    "data_1 = data1.copy()\n",
    "stdsc = StandardScaler()\n",
    "data_1 = pd.DataFrame(stdsc.fit_transform(data_1), columns=data_1.columns)\n",
    "data_1 = data_1.rename(columns={\"volatile acidity\":\"volatile_acidity\", \"free sulfur dioxide\": \"free_sulfur_dioxide\", \"fixed acidity\": \"fixed_acidity\", \"citric acid\": \"citric_acid\", \"residual sugar\":\"residual_sugar\", \"total sulfur dioxide\": \"total_sulfur_dioxide\"})\n",
    "\n",
    "X = data_1[data_1.columns[0:-1]]\n",
    "y = data_1[\"target\"]\n",
    "X_tr, X_te, y_tr, y_te= train_test_split(X,y, test_size=0.33,random_state=2023)\n",
    "\n",
    "X_tr[\"target\"] = y_tr\n",
    "\n",
    "# Application de la regression lineaire\n",
    "model_formula1 = \"target ~ alcohol + sulphates + density  + volatile_acidity+ fixed_acidity + citric_acid + residual_sugar \"\n",
    "# Define the model\n",
    "model1 = sm.OLS.from_formula(model_formula1, data=X_tr)\n",
    "\n",
    "# Fit the model\n",
    "results1 = model1.fit()\n",
    "\n",
    "# View the regression summary\n",
    "print(results1.summary())"
   ]
  },
  {
   "cell_type": "code",
   "execution_count": 10,
   "metadata": {},
   "outputs": [
    {
     "name": "stderr",
     "output_type": "stream",
     "text": [
      "/Users/laurafuentesvicente/opt/anaconda3/envs/datachallenge/lib/python3.11/site-packages/sklearn/utils/validation.py:1143: DataConversionWarning: A column-vector y was passed when a 1d array was expected. Please change the shape of y to (n_samples, ), for example using ravel().\n",
      "  y = column_or_1d(y, warn=True)\n",
      "/var/folders/30/cz4hwnjn49sbv5x54df4kt4m0000gn/T/ipykernel_3874/315787894.py:7: DataConversionWarning: A column-vector y was passed when a 1d array was expected. Please change the shape of y to (n_samples,), for example using ravel().\n",
      "  pred_etrees1 = ExtraTreesRegressor(n_estimators=2750,random_state=50, max_samples=None).fit(X_tr_1, y_tr1).predict(X_te_1)\n",
      "/var/folders/30/cz4hwnjn49sbv5x54df4kt4m0000gn/T/ipykernel_3874/315787894.py:9: DataConversionWarning: A column-vector y was passed when a 1d array was expected. Please change the shape of y to (n_samples,), for example using ravel().\n",
      "  pred_rf1 = RandomForestRegressor(random_state=50, n_estimators=155,min_samples_split=2).fit(X_tr_1, y_tr1).predict(X_te_1)\n"
     ]
    }
   ],
   "source": [
    "pred_reglin1 = results1.predict(X_te)\n",
    "\n",
    "pred_SVM1 = NuSVR(kernel=\"rbf\", gamma=\"scale\", nu=0.5,C=1).fit(X_tr_1,y_tr1).predict(X_te_1)\n",
    "\n",
    "preds_XGB1 = xgb.XGBRFRegressor(n_estimators=420).fit(X_tr_1, y_tr1).predict(X_te_1)\n",
    "\n",
    "pred_etrees1 = ExtraTreesRegressor(n_estimators=2750,random_state=50, max_samples=None).fit(X_tr_1, y_tr1).predict(X_te_1)\n",
    "\n",
    "pred_rf1 = RandomForestRegressor(random_state=50, n_estimators=155,min_samples_split=2).fit(X_tr_1, y_tr1).predict(X_te_1)"
   ]
  },
  {
   "cell_type": "markdown",
   "metadata": {},
   "source": [
    "### On va chercher ainsi quelle est la combinaison avec plus forte performance totale: "
   ]
  },
  {
   "cell_type": "code",
   "execution_count": 68,
   "metadata": {},
   "outputs": [
    {
     "name": "stdout",
     "output_type": "stream",
     "text": [
      "r2_score 0.5020026463683728\n"
     ]
    }
   ],
   "source": [
    "# data0:SVM \n",
    "#predsvm = build_pred(X_te0, X_te1, pred_SVM0,pred_etrees1)\n",
    "#print(\"r2_score\", r2_score(y_te,predsvm[:,1])) # 0.4191068436101377\n",
    "\n",
    "#data0: xgboost\n",
    "#predxgb = build_pred(X_te0, X_te1, pred_xgboost0,pred_etrees1)\n",
    "#print(\"r2_score\", r2_score(y_te,predxgb[:,1])) #0.4327753140486902\n",
    "\n",
    "#data0: bagging\n",
    "#predbag = build_pred(X_te0, X_te1, pred_bagg0,pred_etrees1)\n",
    "#print(\"r2_score\", r2_score(y_te,predbag[:,1])) #0.4816217721361392\n",
    "\n",
    "#data0: extratrees\n",
    "predetrees = build_pred(X_te0, X_te1, pred_etrees0,pred_etrees1)\n",
    "print(\"r2_score\", r2_score(y_te,predetrees[:,1])) #0.5020026463683728"
   ]
  },
  {
   "cell_type": "markdown",
   "metadata": {},
   "source": [
    "#### **Modèle associé à la plus forte note est donc: extratrees pour les deux**"
   ]
  },
  {
   "cell_type": "markdown",
   "metadata": {},
   "source": [
    "### Entrainement du modèle sélectionné et prediction sur X_test\n",
    "\n",
    "On entraine nos modèles sélectionnés sur l'ensemble des données puis on crée une soumission"
   ]
  },
  {
   "cell_type": "markdown",
   "metadata": {},
   "source": [
    "On crée d'abord X_test0 (avec que des vins de type 0), et X_test1 (resp. vins de type 1) pour pouvoir créer nos prédictions"
   ]
  },
  {
   "cell_type": "code",
   "execution_count": null,
   "metadata": {},
   "outputs": [],
   "source": [
    "#On telecharge X_test\n",
    "X_test = pd.read_csv(\"wine_test.csv\")\n",
    "\n",
    "idxtest0, idxtest1 = winetype(X_test)\n",
    "X_test0, X_test1 = formal_div(X_test, idxtest0, idxtest1)"
   ]
  },
  {
   "cell_type": "code",
   "execution_count": null,
   "metadata": {},
   "outputs": [
    {
     "name": "stderr",
     "output_type": "stream",
     "text": [
      "/var/folders/30/cz4hwnjn49sbv5x54df4kt4m0000gn/T/ipykernel_12692/228695055.py:12: DataConversionWarning: A column-vector y was passed when a 1d array was expected. Please change the shape of y to (n_samples,), for example using ravel().\n",
      "  mod0.fit(X0,y0)\n",
      "/var/folders/30/cz4hwnjn49sbv5x54df4kt4m0000gn/T/ipykernel_12692/228695055.py:20: DataConversionWarning: A column-vector y was passed when a 1d array was expected. Please change the shape of y to (n_samples,), for example using ravel().\n",
      "  mod1.fit(X1,y1)\n"
     ]
    }
   ],
   "source": [
    "#Data0: \n",
    "mod0 = ExtraTreesRegressor(random_state=50, max_samples=None, n_estimators=1000)\n",
    "mod0.fit(X0,y0)\n",
    "pred0 = mod0.predict(X_test0)\n",
    "\n",
    "\n",
    "#Data1: \n",
    "mod1 = ExtraTreesRegressor(random_state=50, max_samples=None, n_estimators=2750)\n",
    "mod1.fit(X1,y1)\n",
    "pred1 = mod1.predict(X_test1)\n",
    "\n",
    "#Creation \n",
    "pred = build_pred(X_test0, X_test1, pred0,pred1)"
   ]
  },
  {
   "cell_type": "code",
   "execution_count": null,
   "metadata": {},
   "outputs": [],
   "source": [
    "import csv\n",
    "\n",
    "    # Nommez les colonnes\n",
    "column_names = ['wine_ID', 'target']\n",
    "    # Spécifiez le nom du fichier CSV de sortie\n",
    "csv_filename = 'submissions_R/'+'ExtraTrees_01'+'_'+'0010'+'.csv'\n",
    "    # Ouvrez le fichier CSV en mode écriture et écrivez les données\n",
    "with open(csv_filename, 'w', newline='') as csv_file:\n",
    "    writer = csv.writer(csv_file)\n",
    "        # Écrivez les noms des colonnes\n",
    "    writer.writerow(column_names)\n",
    "        # Écrivez les données\n",
    "    writer.writerows(pred)"
   ]
  },
  {
   "cell_type": "code",
   "execution_count": null,
   "metadata": {},
   "outputs": [],
   "source": [
    "https://www.kaggle.com/code/qusaybtoush1990/wine-quality "
   ]
  },
  {
   "cell_type": "code",
   "execution_count": null,
   "metadata": {},
   "outputs": [],
   "source": []
  },
  {
   "cell_type": "code",
   "execution_count": null,
   "metadata": {},
   "outputs": [],
   "source": []
  }
 ],
 "metadata": {
  "kernelspec": {
   "display_name": "datachallenge",
   "language": "python",
   "name": "python3"
  },
  "language_info": {
   "codemirror_mode": {
    "name": "ipython",
    "version": 3
   },
   "file_extension": ".py",
   "mimetype": "text/x-python",
   "name": "python",
   "nbconvert_exporter": "python",
   "pygments_lexer": "ipython3",
   "version": "3.11.5"
  }
 },
 "nbformat": 4,
 "nbformat_minor": 2
}
